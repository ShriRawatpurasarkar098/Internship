{
 "cells": [
  {
   "cell_type": "markdown",
   "id": "9cf1f5c0",
   "metadata": {},
   "source": [
    "# Question 1- Write a Python program to replace all occurrences of a space, comma, or dot with a colon.\n",
    "Sample Text- 'Python Exercises, PHP exercises.'\n",
    "Expected Output: Python:Exercises::PHP:exercises:\n"
   ]
  },
  {
   "cell_type": "code",
   "execution_count": 1,
   "id": "3dbee7d0",
   "metadata": {},
   "outputs": [
    {
     "name": "stdout",
     "output_type": "stream",
     "text": [
      "Python:Exercises::PHP:exercises:\n"
     ]
    }
   ],
   "source": [
    "import re\n",
    "\n",
    "stmt='Python Exercises, PHP exercises.'\n",
    "print(re.sub(\"[ ,.]\", \":\", stmt))"
   ]
  },
  {
   "cell_type": "markdown",
   "id": "9a6802f7",
   "metadata": {},
   "source": [
    "# Question 2-  Create a dataframe using the dictionary below and remove everything (commas (,), !, XXXX, ;, etc.) from the columns except words.\n",
    "\n",
    "Dictionary- {'SUMMARY' : ['hello, world!', 'XXXXX test', '123four, five:; six...']}\n",
    "Expected output-\n",
    "0      hello world\n",
    "1             test\n",
    "2    four five six\n"
   ]
  },
  {
   "cell_type": "code",
   "execution_count": 6,
   "id": "c644e616",
   "metadata": {},
   "outputs": [
    {
     "data": {
      "text/html": [
       "<div>\n",
       "<style scoped>\n",
       "    .dataframe tbody tr th:only-of-type {\n",
       "        vertical-align: middle;\n",
       "    }\n",
       "\n",
       "    .dataframe tbody tr th {\n",
       "        vertical-align: top;\n",
       "    }\n",
       "\n",
       "    .dataframe thead th {\n",
       "        text-align: right;\n",
       "    }\n",
       "</style>\n",
       "<table border=\"1\" class=\"dataframe\">\n",
       "  <thead>\n",
       "    <tr style=\"text-align: right;\">\n",
       "      <th></th>\n",
       "      <th>SUMMARY</th>\n",
       "    </tr>\n",
       "  </thead>\n",
       "  <tbody>\n",
       "    <tr>\n",
       "      <th>0</th>\n",
       "      <td>hello, world!</td>\n",
       "    </tr>\n",
       "    <tr>\n",
       "      <th>1</th>\n",
       "      <td>XXXXX test</td>\n",
       "    </tr>\n",
       "    <tr>\n",
       "      <th>2</th>\n",
       "      <td>123four, five:; six...</td>\n",
       "    </tr>\n",
       "  </tbody>\n",
       "</table>\n",
       "</div>"
      ],
      "text/plain": [
       "                  SUMMARY\n",
       "0           hello, world!\n",
       "1              XXXXX test\n",
       "2  123four, five:; six..."
      ]
     },
     "execution_count": 6,
     "metadata": {},
     "output_type": "execute_result"
    }
   ],
   "source": [
    "\n",
    "import pandas as pd\n",
    "\n",
    "dict= {'SUMMARY' : ['hello, world!', 'XXXXX test', '123four, five:; six...']}\n",
    "df=pd.DataFrame(dict)\n",
    "\n",
    "df\n"
   ]
  },
  {
   "cell_type": "code",
   "execution_count": 36,
   "id": "284e3a08",
   "metadata": {},
   "outputs": [
    {
     "name": "stdout",
     "output_type": "stream",
     "text": [
      "         SUMMARY\n",
      "0    hello world\n",
      "1     XXXXX test\n",
      "2  four five six\n"
     ]
    },
    {
     "name": "stderr",
     "output_type": "stream",
     "text": [
      "/var/folders/58/4g1krmxn1l34nywx4xnh7rnh0000gn/T/ipykernel_20663/4158396085.py:1: FutureWarning: The default value of regex will change from True to False in a future version.\n",
      "  df['SUMMARY'] = df['SUMMARY'].str.replace('[^a-zA-Z\\s]','')\n"
     ]
    }
   ],
   "source": [
    "df['SUMMARY'] = df['SUMMARY'].str.replace('[^a-zA-Z\\s]','')\n",
    "print(df)"
   ]
  },
  {
   "cell_type": "markdown",
   "id": "6cc4cc45",
   "metadata": {},
   "source": [
    "# Question 3- Create a function in python to find all words that are at least 4 characters long in a string. The use of the re.compile() method is mandatory."
   ]
  },
  {
   "cell_type": "code",
   "execution_count": 43,
   "id": "1627d3ba",
   "metadata": {},
   "outputs": [],
   "source": [
    "def GET_WORDS(string):\n",
    "    flow=re.compile(r'\\b\\w{4}\\b')\n",
    "    extract=flow.findall(string)\n",
    "    return extract"
   ]
  },
  {
   "cell_type": "code",
   "execution_count": 45,
   "id": "fcae5078",
   "metadata": {},
   "outputs": [
    {
     "name": "stdout",
     "output_type": "stream",
     "text": [
      "['four', '1234', 'bomu', 'life']\n"
     ]
    }
   ],
   "source": [
    "string='Apple four  sanskrita santosh 1234 bomu life gmail'\n",
    "result=GET_WORDS(string)\n",
    "print(result)"
   ]
  },
  {
   "cell_type": "markdown",
   "id": "65f9e239",
   "metadata": {},
   "source": [
    "# Question 4- Create a function in python to find all three, four, and five character words in a string. The use of the re.compile() method is mandatory"
   ]
  },
  {
   "cell_type": "code",
   "execution_count": 51,
   "id": "679170e4",
   "metadata": {},
   "outputs": [],
   "source": [
    "def GET_WORDS(string):\n",
    "    flow=re.compile(r'\\b\\w{3,5}\\b')\n",
    "    extract=flow.findall(string)\n",
    "    return extract"
   ]
  },
  {
   "cell_type": "code",
   "execution_count": 54,
   "id": "a3eea680",
   "metadata": {},
   "outputs": [
    {
     "name": "stdout",
     "output_type": "stream",
     "text": [
      "['Apple', 'four', 'san', '1234', 'bomu', '123']\n"
     ]
    }
   ],
   "source": [
    "string='Apple four  sanskrita san 1234 bomu 123'\n",
    "result=GET_WORDS(string)\n",
    "print(result)"
   ]
  },
  {
   "cell_type": "markdown",
   "id": "d5644654",
   "metadata": {},
   "source": [
    "# Question 5- Create a function in Python to remove the parenthesis in a list of strings. The use of the re.compile() method is mandatory.\n",
    "Sample Text: [\"example (.com)\", \"hr@fliprobo (.com)\", \"github (.com)\", \"Hello (Data Science World)\", \"Data (Scientist)\"]\n",
    "Expected Output:\n",
    "example.com\n",
    "hr@fliprobo.com\n",
    "github.com\n",
    "Hello Data Science World\n",
    "Data Scientist\n"
   ]
  },
  {
   "cell_type": "code",
   "execution_count": 61,
   "id": "3547e34f",
   "metadata": {},
   "outputs": [
    {
     "name": "stdout",
     "output_type": "stream",
     "text": [
      "[example .com, hr@fliprobo .com, github .com, Hello Data Science World, Data Scientist]\n"
     ]
    }
   ],
   "source": [
    "x='[\"example (.com)\", \"hr@fliprobo (.com)\", \"github (.com)\", \"Hello (Data Science World)\", \"Data (Scientist)\"]' \n",
    "r=re.sub(r'[(\\)\"\"]',\"\",x)\n",
    "print(r)"
   ]
  },
  {
   "cell_type": "code",
   "execution_count": 92,
   "id": "3dcffd3e",
   "metadata": {},
   "outputs": [],
   "source": [
    "def x(strings):\n",
    "    pattern=re.compile(r'[(\\)]')\n",
    "    mod_strings=[]\n",
    "    for string in strings:\n",
    "        mod_str=re.sub(pattern,\"\",string)\n",
    "        mod_strings.append(mod_str)\n",
    "    return mod_strings"
   ]
  },
  {
   "cell_type": "code",
   "execution_count": 93,
   "id": "f15c1037",
   "metadata": {},
   "outputs": [
    {
     "name": "stdout",
     "output_type": "stream",
     "text": [
      "['example .com', 'hr@fliprobo .com', 'github .com', 'Hello Data Science World', 'Data Scientist']\n"
     ]
    }
   ],
   "source": [
    "str=[\"example (.com)\", \"hr@fliprobo (.com)\", \"github (.com)\", \"Hello (Data Science World)\", \"Data (Scientist)\"]\n",
    "res=x(str)\n",
    "print(res)"
   ]
  },
  {
   "cell_type": "markdown",
   "id": "c740e47c",
   "metadata": {},
   "source": [
    "# Question 6- Write a python program to remove the parenthesis area from the text stored in the text file using Regular Expression.\n",
    "Sample Text: [\"example (.com)\", \"hr@fliprobo (.com)\", \"github (.com)\", \"Hello (Data Science World)\", \"Data (Scientist)\"]\n",
    "Expected Output: [\"example\", \"hr@fliprobo\", \"github\", \"Hello\", \"Data\"]\n",
    "Note- Store given sample text in the text file and then to remove the parenthesis area from the text.\n"
   ]
  },
  {
   "cell_type": "code",
   "execution_count": 100,
   "id": "3891fdf9",
   "metadata": {},
   "outputs": [
    {
     "name": "stdout",
     "output_type": "stream",
     "text": [
      " [\"example\", \"hr@fliprobo\", \"github\", \"Hello\", \"Data\"]\n",
      "\n",
      "\n"
     ]
    }
   ],
   "source": [
    "import re\n",
    "\n",
    "t=open(\"/Users/apple/Desktop/PYTHON INTERNSHIP ASSIGNMENTS/30-03-2024/example.txt\",'r')\n",
    "t1=t.read()\n",
    "t3=re.sub(r\"\\s*\\([^)]*\\)\",\"\",t1)\n",
    "print(t3)"
   ]
  },
  {
   "cell_type": "markdown",
   "id": "96b619c8",
   "metadata": {},
   "source": [
    "# Question 7- Write a regular expression in Python to split a string into uppercase letters.\n",
    "Sample text: “ImportanceOfRegularExpressionsInPython”\n",
    "Expected Output: [‘Importance’, ‘Of’, ‘Regular’, ‘Expression’, ‘In’, ‘Python’]\n"
   ]
  },
  {
   "cell_type": "code",
   "execution_count": 119,
   "id": "9667856e",
   "metadata": {},
   "outputs": [
    {
     "name": "stdout",
     "output_type": "stream",
     "text": [
      "['', 'Importance', '', 'Of', '', 'Regular', '', 'Expressions', '', 'In', '', 'Python', '']\n"
     ]
    }
   ],
   "source": [
    "t='ImportanceOfRegularExpressionsInPython'\n",
    "t2=re.split(\"([A-Z][^A-Z]*)\",t)\n",
    "print(t2)"
   ]
  },
  {
   "cell_type": "markdown",
   "id": "b4ea366a",
   "metadata": {},
   "source": [
    "# Question 8- Create a function in python to insert spaces between words starting with numbers.\n",
    "Sample Text: “RegularExpression1IsAn2ImportantTopic3InPython\"\n",
    "Expected Output: RegularExpression 1IsAn 2ImportantTopic 3InPython\n"
   ]
  },
  {
   "cell_type": "code",
   "execution_count": 145,
   "id": "f9c93cbb",
   "metadata": {},
   "outputs": [],
   "source": [
    "def add_space(stmt):\n",
    "    flow=r'(\\d+)([A-Za-z]+)'\n",
    "    result=re.sub(flow,r' \\1 \\2',stmt)\n",
    "    return result\n"
   ]
  },
  {
   "cell_type": "code",
   "execution_count": 146,
   "id": "3a3963e6",
   "metadata": {},
   "outputs": [
    {
     "name": "stdout",
     "output_type": "stream",
     "text": [
      "RegularExpression 1 IsAn 2 ImportantTopic 3 InPython\n"
     ]
    }
   ],
   "source": [
    "stmt='RegularExpression1IsAn2ImportantTopic3InPython'\n",
    "stmt2=add_space(stmt)\n",
    "print(stmt2)"
   ]
  },
  {
   "cell_type": "markdown",
   "id": "b003ddcd",
   "metadata": {},
   "source": [
    "# Question 10- Use the github link below to read the data and create a dataframe. After creating the dataframe extract the first 6 letters of each country and store in the dataframe under a new column called first_five_letters.\n",
    "Github Link-  https://raw.githubusercontent.com/dsrscientist/DSData/master/happiness_score_dataset.csv\n"
   ]
  },
  {
   "cell_type": "code",
   "execution_count": 147,
   "id": "3f81eb10",
   "metadata": {},
   "outputs": [
    {
     "data": {
      "text/html": [
       "<div>\n",
       "<style scoped>\n",
       "    .dataframe tbody tr th:only-of-type {\n",
       "        vertical-align: middle;\n",
       "    }\n",
       "\n",
       "    .dataframe tbody tr th {\n",
       "        vertical-align: top;\n",
       "    }\n",
       "\n",
       "    .dataframe thead th {\n",
       "        text-align: right;\n",
       "    }\n",
       "</style>\n",
       "<table border=\"1\" class=\"dataframe\">\n",
       "  <thead>\n",
       "    <tr style=\"text-align: right;\">\n",
       "      <th></th>\n",
       "      <th>Country</th>\n",
       "      <th>Region</th>\n",
       "      <th>Happiness Rank</th>\n",
       "      <th>Happiness Score</th>\n",
       "      <th>Standard Error</th>\n",
       "      <th>Economy (GDP per Capita)</th>\n",
       "      <th>Family</th>\n",
       "      <th>Health (Life Expectancy)</th>\n",
       "      <th>Freedom</th>\n",
       "      <th>Trust (Government Corruption)</th>\n",
       "      <th>Generosity</th>\n",
       "      <th>Dystopia Residual</th>\n",
       "    </tr>\n",
       "  </thead>\n",
       "  <tbody>\n",
       "    <tr>\n",
       "      <th>0</th>\n",
       "      <td>Switzerland</td>\n",
       "      <td>Western Europe</td>\n",
       "      <td>1</td>\n",
       "      <td>7.587</td>\n",
       "      <td>0.03411</td>\n",
       "      <td>1.39651</td>\n",
       "      <td>1.34951</td>\n",
       "      <td>0.94143</td>\n",
       "      <td>0.66557</td>\n",
       "      <td>0.41978</td>\n",
       "      <td>0.29678</td>\n",
       "      <td>2.51738</td>\n",
       "    </tr>\n",
       "    <tr>\n",
       "      <th>1</th>\n",
       "      <td>Iceland</td>\n",
       "      <td>Western Europe</td>\n",
       "      <td>2</td>\n",
       "      <td>7.561</td>\n",
       "      <td>0.04884</td>\n",
       "      <td>1.30232</td>\n",
       "      <td>1.40223</td>\n",
       "      <td>0.94784</td>\n",
       "      <td>0.62877</td>\n",
       "      <td>0.14145</td>\n",
       "      <td>0.43630</td>\n",
       "      <td>2.70201</td>\n",
       "    </tr>\n",
       "    <tr>\n",
       "      <th>2</th>\n",
       "      <td>Denmark</td>\n",
       "      <td>Western Europe</td>\n",
       "      <td>3</td>\n",
       "      <td>7.527</td>\n",
       "      <td>0.03328</td>\n",
       "      <td>1.32548</td>\n",
       "      <td>1.36058</td>\n",
       "      <td>0.87464</td>\n",
       "      <td>0.64938</td>\n",
       "      <td>0.48357</td>\n",
       "      <td>0.34139</td>\n",
       "      <td>2.49204</td>\n",
       "    </tr>\n",
       "    <tr>\n",
       "      <th>3</th>\n",
       "      <td>Norway</td>\n",
       "      <td>Western Europe</td>\n",
       "      <td>4</td>\n",
       "      <td>7.522</td>\n",
       "      <td>0.03880</td>\n",
       "      <td>1.45900</td>\n",
       "      <td>1.33095</td>\n",
       "      <td>0.88521</td>\n",
       "      <td>0.66973</td>\n",
       "      <td>0.36503</td>\n",
       "      <td>0.34699</td>\n",
       "      <td>2.46531</td>\n",
       "    </tr>\n",
       "    <tr>\n",
       "      <th>4</th>\n",
       "      <td>Canada</td>\n",
       "      <td>North America</td>\n",
       "      <td>5</td>\n",
       "      <td>7.427</td>\n",
       "      <td>0.03553</td>\n",
       "      <td>1.32629</td>\n",
       "      <td>1.32261</td>\n",
       "      <td>0.90563</td>\n",
       "      <td>0.63297</td>\n",
       "      <td>0.32957</td>\n",
       "      <td>0.45811</td>\n",
       "      <td>2.45176</td>\n",
       "    </tr>\n",
       "    <tr>\n",
       "      <th>...</th>\n",
       "      <td>...</td>\n",
       "      <td>...</td>\n",
       "      <td>...</td>\n",
       "      <td>...</td>\n",
       "      <td>...</td>\n",
       "      <td>...</td>\n",
       "      <td>...</td>\n",
       "      <td>...</td>\n",
       "      <td>...</td>\n",
       "      <td>...</td>\n",
       "      <td>...</td>\n",
       "      <td>...</td>\n",
       "    </tr>\n",
       "    <tr>\n",
       "      <th>153</th>\n",
       "      <td>Rwanda</td>\n",
       "      <td>Sub-Saharan Africa</td>\n",
       "      <td>154</td>\n",
       "      <td>3.465</td>\n",
       "      <td>0.03464</td>\n",
       "      <td>0.22208</td>\n",
       "      <td>0.77370</td>\n",
       "      <td>0.42864</td>\n",
       "      <td>0.59201</td>\n",
       "      <td>0.55191</td>\n",
       "      <td>0.22628</td>\n",
       "      <td>0.67042</td>\n",
       "    </tr>\n",
       "    <tr>\n",
       "      <th>154</th>\n",
       "      <td>Benin</td>\n",
       "      <td>Sub-Saharan Africa</td>\n",
       "      <td>155</td>\n",
       "      <td>3.340</td>\n",
       "      <td>0.03656</td>\n",
       "      <td>0.28665</td>\n",
       "      <td>0.35386</td>\n",
       "      <td>0.31910</td>\n",
       "      <td>0.48450</td>\n",
       "      <td>0.08010</td>\n",
       "      <td>0.18260</td>\n",
       "      <td>1.63328</td>\n",
       "    </tr>\n",
       "    <tr>\n",
       "      <th>155</th>\n",
       "      <td>Syria</td>\n",
       "      <td>Middle East and Northern Africa</td>\n",
       "      <td>156</td>\n",
       "      <td>3.006</td>\n",
       "      <td>0.05015</td>\n",
       "      <td>0.66320</td>\n",
       "      <td>0.47489</td>\n",
       "      <td>0.72193</td>\n",
       "      <td>0.15684</td>\n",
       "      <td>0.18906</td>\n",
       "      <td>0.47179</td>\n",
       "      <td>0.32858</td>\n",
       "    </tr>\n",
       "    <tr>\n",
       "      <th>156</th>\n",
       "      <td>Burundi</td>\n",
       "      <td>Sub-Saharan Africa</td>\n",
       "      <td>157</td>\n",
       "      <td>2.905</td>\n",
       "      <td>0.08658</td>\n",
       "      <td>0.01530</td>\n",
       "      <td>0.41587</td>\n",
       "      <td>0.22396</td>\n",
       "      <td>0.11850</td>\n",
       "      <td>0.10062</td>\n",
       "      <td>0.19727</td>\n",
       "      <td>1.83302</td>\n",
       "    </tr>\n",
       "    <tr>\n",
       "      <th>157</th>\n",
       "      <td>Togo</td>\n",
       "      <td>Sub-Saharan Africa</td>\n",
       "      <td>158</td>\n",
       "      <td>2.839</td>\n",
       "      <td>0.06727</td>\n",
       "      <td>0.20868</td>\n",
       "      <td>0.13995</td>\n",
       "      <td>0.28443</td>\n",
       "      <td>0.36453</td>\n",
       "      <td>0.10731</td>\n",
       "      <td>0.16681</td>\n",
       "      <td>1.56726</td>\n",
       "    </tr>\n",
       "  </tbody>\n",
       "</table>\n",
       "<p>158 rows × 12 columns</p>\n",
       "</div>"
      ],
      "text/plain": [
       "         Country                           Region  Happiness Rank  \\\n",
       "0    Switzerland                   Western Europe               1   \n",
       "1        Iceland                   Western Europe               2   \n",
       "2        Denmark                   Western Europe               3   \n",
       "3         Norway                   Western Europe               4   \n",
       "4         Canada                    North America               5   \n",
       "..           ...                              ...             ...   \n",
       "153       Rwanda               Sub-Saharan Africa             154   \n",
       "154        Benin               Sub-Saharan Africa             155   \n",
       "155        Syria  Middle East and Northern Africa             156   \n",
       "156      Burundi               Sub-Saharan Africa             157   \n",
       "157         Togo               Sub-Saharan Africa             158   \n",
       "\n",
       "     Happiness Score  Standard Error  Economy (GDP per Capita)   Family  \\\n",
       "0              7.587         0.03411                   1.39651  1.34951   \n",
       "1              7.561         0.04884                   1.30232  1.40223   \n",
       "2              7.527         0.03328                   1.32548  1.36058   \n",
       "3              7.522         0.03880                   1.45900  1.33095   \n",
       "4              7.427         0.03553                   1.32629  1.32261   \n",
       "..               ...             ...                       ...      ...   \n",
       "153            3.465         0.03464                   0.22208  0.77370   \n",
       "154            3.340         0.03656                   0.28665  0.35386   \n",
       "155            3.006         0.05015                   0.66320  0.47489   \n",
       "156            2.905         0.08658                   0.01530  0.41587   \n",
       "157            2.839         0.06727                   0.20868  0.13995   \n",
       "\n",
       "     Health (Life Expectancy)  Freedom  Trust (Government Corruption)  \\\n",
       "0                     0.94143  0.66557                        0.41978   \n",
       "1                     0.94784  0.62877                        0.14145   \n",
       "2                     0.87464  0.64938                        0.48357   \n",
       "3                     0.88521  0.66973                        0.36503   \n",
       "4                     0.90563  0.63297                        0.32957   \n",
       "..                        ...      ...                            ...   \n",
       "153                   0.42864  0.59201                        0.55191   \n",
       "154                   0.31910  0.48450                        0.08010   \n",
       "155                   0.72193  0.15684                        0.18906   \n",
       "156                   0.22396  0.11850                        0.10062   \n",
       "157                   0.28443  0.36453                        0.10731   \n",
       "\n",
       "     Generosity  Dystopia Residual  \n",
       "0       0.29678            2.51738  \n",
       "1       0.43630            2.70201  \n",
       "2       0.34139            2.49204  \n",
       "3       0.34699            2.46531  \n",
       "4       0.45811            2.45176  \n",
       "..          ...                ...  \n",
       "153     0.22628            0.67042  \n",
       "154     0.18260            1.63328  \n",
       "155     0.47179            0.32858  \n",
       "156     0.19727            1.83302  \n",
       "157     0.16681            1.56726  \n",
       "\n",
       "[158 rows x 12 columns]"
      ]
     },
     "execution_count": 147,
     "metadata": {},
     "output_type": "execute_result"
    }
   ],
   "source": [
    "link='https://raw.githubusercontent.com/dsrscientist/DSData/master/happiness_score_dataset.csv'\n",
    "df=pd.read_csv(link)\n",
    "df"
   ]
  },
  {
   "cell_type": "code",
   "execution_count": 150,
   "id": "74245095",
   "metadata": {},
   "outputs": [],
   "source": [
    "df['letters']=df['Country'].apply(lambda x: x[:6])"
   ]
  },
  {
   "cell_type": "code",
   "execution_count": 155,
   "id": "f6ff57d4",
   "metadata": {},
   "outputs": [
    {
     "data": {
      "text/html": [
       "<div>\n",
       "<style scoped>\n",
       "    .dataframe tbody tr th:only-of-type {\n",
       "        vertical-align: middle;\n",
       "    }\n",
       "\n",
       "    .dataframe tbody tr th {\n",
       "        vertical-align: top;\n",
       "    }\n",
       "\n",
       "    .dataframe thead th {\n",
       "        text-align: right;\n",
       "    }\n",
       "</style>\n",
       "<table border=\"1\" class=\"dataframe\">\n",
       "  <thead>\n",
       "    <tr style=\"text-align: right;\">\n",
       "      <th></th>\n",
       "      <th>Country</th>\n",
       "      <th>letters</th>\n",
       "    </tr>\n",
       "  </thead>\n",
       "  <tbody>\n",
       "    <tr>\n",
       "      <th>0</th>\n",
       "      <td>Switzerland</td>\n",
       "      <td>Switze</td>\n",
       "    </tr>\n",
       "    <tr>\n",
       "      <th>1</th>\n",
       "      <td>Iceland</td>\n",
       "      <td>Icelan</td>\n",
       "    </tr>\n",
       "    <tr>\n",
       "      <th>2</th>\n",
       "      <td>Denmark</td>\n",
       "      <td>Denmar</td>\n",
       "    </tr>\n",
       "    <tr>\n",
       "      <th>3</th>\n",
       "      <td>Norway</td>\n",
       "      <td>Norway</td>\n",
       "    </tr>\n",
       "    <tr>\n",
       "      <th>4</th>\n",
       "      <td>Canada</td>\n",
       "      <td>Canada</td>\n",
       "    </tr>\n",
       "    <tr>\n",
       "      <th>...</th>\n",
       "      <td>...</td>\n",
       "      <td>...</td>\n",
       "    </tr>\n",
       "    <tr>\n",
       "      <th>153</th>\n",
       "      <td>Rwanda</td>\n",
       "      <td>Rwanda</td>\n",
       "    </tr>\n",
       "    <tr>\n",
       "      <th>154</th>\n",
       "      <td>Benin</td>\n",
       "      <td>Benin</td>\n",
       "    </tr>\n",
       "    <tr>\n",
       "      <th>155</th>\n",
       "      <td>Syria</td>\n",
       "      <td>Syria</td>\n",
       "    </tr>\n",
       "    <tr>\n",
       "      <th>156</th>\n",
       "      <td>Burundi</td>\n",
       "      <td>Burund</td>\n",
       "    </tr>\n",
       "    <tr>\n",
       "      <th>157</th>\n",
       "      <td>Togo</td>\n",
       "      <td>Togo</td>\n",
       "    </tr>\n",
       "  </tbody>\n",
       "</table>\n",
       "<p>158 rows × 2 columns</p>\n",
       "</div>"
      ],
      "text/plain": [
       "         Country letters\n",
       "0    Switzerland  Switze\n",
       "1        Iceland  Icelan\n",
       "2        Denmark  Denmar\n",
       "3         Norway  Norway\n",
       "4         Canada  Canada\n",
       "..           ...     ...\n",
       "153       Rwanda  Rwanda\n",
       "154        Benin   Benin\n",
       "155        Syria   Syria\n",
       "156      Burundi  Burund\n",
       "157         Togo    Togo\n",
       "\n",
       "[158 rows x 2 columns]"
      ]
     },
     "execution_count": 155,
     "metadata": {},
     "output_type": "execute_result"
    }
   ],
   "source": [
    "df[['Country','letters']]"
   ]
  },
  {
   "cell_type": "markdown",
   "id": "9fe063f6",
   "metadata": {},
   "source": [
    "# Question 11- Write a Python program to match a string that contains only upper and lowercase letters, numbers, and underscores."
   ]
  },
  {
   "cell_type": "code",
   "execution_count": 158,
   "id": "94f820db",
   "metadata": {},
   "outputs": [],
   "source": [
    "def match_a_string(string):\n",
    "    flow=r'^[\\w_]+$'\n",
    "    if re.match(flow,string):\n",
    "        print('Match')\n",
    "    else:\n",
    "        print('Not Matched')"
   ]
  },
  {
   "cell_type": "code",
   "execution_count": 159,
   "id": "719bc2a3",
   "metadata": {},
   "outputs": [
    {
     "name": "stdout",
     "output_type": "stream",
     "text": [
      "Not Matched\n"
     ]
    }
   ],
   "source": [
    "match_a_string('How is your life')"
   ]
  },
  {
   "cell_type": "code",
   "execution_count": 164,
   "id": "b8594983",
   "metadata": {},
   "outputs": [
    {
     "name": "stdout",
     "output_type": "stream",
     "text": [
      "Match\n"
     ]
    }
   ],
   "source": [
    "match_a_string('How_is123yourLife')"
   ]
  },
  {
   "cell_type": "markdown",
   "id": "89cdcc7f",
   "metadata": {},
   "source": [
    "# Question 12- Write a Python program where a string will start with a specific number."
   ]
  },
  {
   "cell_type": "code",
   "execution_count": 169,
   "id": "652fc7be",
   "metadata": {},
   "outputs": [],
   "source": [
    "def match_a_string(string):\n",
    "    flow=r'^10'\n",
    "    if re.match(flow,string):\n",
    "        print('Match')\n",
    "    else:\n",
    "        print('Not Matched')"
   ]
  },
  {
   "cell_type": "code",
   "execution_count": 170,
   "id": "4d00137d",
   "metadata": {},
   "outputs": [
    {
     "name": "stdout",
     "output_type": "stream",
     "text": [
      "Match\n"
     ]
    }
   ],
   "source": [
    "match_a_string('10 is the number')"
   ]
  },
  {
   "cell_type": "code",
   "execution_count": 172,
   "id": "768d82bd",
   "metadata": {},
   "outputs": [
    {
     "name": "stdout",
     "output_type": "stream",
     "text": [
      "Not Matched\n"
     ]
    }
   ],
   "source": [
    "match_a_string('how 10 is the number')"
   ]
  },
  {
   "cell_type": "markdown",
   "id": "199d8ea3",
   "metadata": {},
   "source": [
    "# Question 13- Write a Python program to remove leading zeros from an IP address"
   ]
  },
  {
   "cell_type": "code",
   "execution_count": 185,
   "id": "77ee93cf",
   "metadata": {},
   "outputs": [],
   "source": [
    "def IP(string):\n",
    "    IP1=re.sub(r'\\b0+(\\d)',r'\\1',string)\n",
    "    return IP1"
   ]
  },
  {
   "cell_type": "code",
   "execution_count": 186,
   "id": "337cc444",
   "metadata": {},
   "outputs": [
    {
     "data": {
      "text/plain": [
       "'100.20.5.545'"
      ]
     },
     "execution_count": 186,
     "metadata": {},
     "output_type": "execute_result"
    }
   ],
   "source": [
    "IP('100.020.005.545')"
   ]
  },
  {
   "cell_type": "markdown",
   "id": "f8d20fd0",
   "metadata": {},
   "source": [
    "# Question 14- Write a regular expression in python to match a date string in the form of Month name followed by day number and year stored in a text file.\n",
    "Sample text :  ' On August 15th 1947 that India was declared independent from British colonialism, and the reins of control were handed over to the leaders of the Country’.\n",
    "Expected Output- August 15th 1947\n",
    "Note- Store given sample text in the text file and then extract the date string asked format.\n"
   ]
  },
  {
   "cell_type": "code",
   "execution_count": 293,
   "id": "25656c71",
   "metadata": {},
   "outputs": [
    {
     "name": "stdout",
     "output_type": "stream",
     "text": [
      "['August 15th 1947']\n"
     ]
    }
   ],
   "source": [
    "t=open(\"/Users/apple/Desktop/PYTHON INTERNSHIP ASSIGNMENTS/30-03-2024/example2.txt\")\n",
    "t1=t.read()\n",
    "result=re.findall(r\"\\b[\\w]* \\d{1,2}(?:st|nd|rd|th)? \\d{4}\\b\",t1)\n",
    "print(result)"
   ]
  },
  {
   "cell_type": "code",
   "execution_count": 292,
   "id": "faa598df",
   "metadata": {},
   "outputs": [
    {
     "name": "stdout",
     "output_type": "stream",
     "text": [
      "['August 15th 1947']\n"
     ]
    }
   ],
   "source": [
    "string=\"On August 15th 1947 that India was declared independent from British colonialism, and the reins of control were handed over to the leaders of the Country\"\n",
    "result=re.findall(r\"\\b[\\w]* \\d{1,2}(?:st|nd|rd|th)? \\d{4}\\b\",string)\n",
    "print(result)"
   ]
  },
  {
   "cell_type": "markdown",
   "id": "2baa7e0a",
   "metadata": {},
   "source": [
    "# Question 15- Write a Python program to search some literals strings in a string. \n",
    "Sample text : 'The quick brown fox jumps over the lazy dog.'\n",
    "Searched words : 'fox', 'dog', 'horse'\n"
   ]
  },
  {
   "cell_type": "code",
   "execution_count": 295,
   "id": "f8af6e74",
   "metadata": {},
   "outputs": [
    {
     "name": "stdout",
     "output_type": "stream",
     "text": [
      "['fox', 'dog']\n"
     ]
    }
   ],
   "source": [
    "string=\"The quick brown fox jumps over the lazy dog\"\n",
    "result=re.findall(r\"fox|dog|horse\",string)\n",
    "print(result)"
   ]
  },
  {
   "cell_type": "markdown",
   "id": "d805c2f5",
   "metadata": {},
   "source": [
    "# Question 16- Write a Python program to search a literals string in a string and also find the location within the original string where the pattern occurs\n",
    "Sample text : 'The quick brown fox jumps over the lazy dog.'\n",
    "Searched words : 'fox'\n"
   ]
  },
  {
   "cell_type": "code",
   "execution_count": 305,
   "id": "46aec068",
   "metadata": {},
   "outputs": [
    {
     "name": "stdout",
     "output_type": "stream",
     "text": [
      "<re.Match object; span=(15, 20), match=' fox '>\n",
      "15\n"
     ]
    }
   ],
   "source": [
    "string=\"The quick brown fox jumps over the lazy dog\"\n",
    "result=re.search(r\"\\Wfox\\W\",string)\n",
    "print(result)\n",
    "position=result.start()\n",
    "print(position)"
   ]
  },
  {
   "cell_type": "markdown",
   "id": "7e60b294",
   "metadata": {},
   "source": [
    "# Question 17- Write a Python program to find the substrings within a string.\n",
    "Sample text : 'Python exercises, PHP exercises, C# exercises'\n",
    "Pattern : 'exercises'\n"
   ]
  },
  {
   "cell_type": "code",
   "execution_count": 309,
   "id": "8e4ab6ef",
   "metadata": {},
   "outputs": [
    {
     "name": "stdout",
     "output_type": "stream",
     "text": [
      "['exercises', 'exercises', 'exercises']\n"
     ]
    }
   ],
   "source": [
    "string=\"Python exercises, PHP exercises, C# exercises\"\n",
    "result=re.findall(r\"exercises\",string)\n",
    "print(result)"
   ]
  },
  {
   "cell_type": "markdown",
   "id": "c94637ea",
   "metadata": {},
   "source": [
    "# Question 18-  Write a Python program to find the occurrence and position of the substrings within a string"
   ]
  },
  {
   "cell_type": "markdown",
   "id": "bd1eb7cf",
   "metadata": {},
   "source": [
    "\"Unable to solve\""
   ]
  },
  {
   "cell_type": "markdown",
   "id": "0b6edb22",
   "metadata": {},
   "source": [
    "# Question 19- Write a Python program to convert a date of yyyy-mm-dd format to dd-mm-yyyy format. "
   ]
  },
  {
   "cell_type": "code",
   "execution_count": 321,
   "id": "0be10eef",
   "metadata": {},
   "outputs": [
    {
     "name": "stdout",
     "output_type": "stream",
     "text": [
      "05-04-2024\n"
     ]
    }
   ],
   "source": [
    "date=\"2024-04-05\"\n",
    "result=re.sub(r'(\\d{4})-(\\d{1,2})-(\\d{1,2})','\\\\3-\\\\2-\\\\1',date)\n",
    "print(result)"
   ]
  },
  {
   "cell_type": "markdown",
   "id": "217184aa",
   "metadata": {},
   "source": [
    "# Question 20- Create a function in python to find all decimal numbers with a precision of 1 or 2 in a string. The use of the re.compile() method is mandatory.\n",
    "Sample Text: \"01.12 0132.123 2.31875 145.8 3.01 27.25 0.25\"\n",
    "Expected Output: ['01.12', '145.8', '3.01', '27.25', '0.25']\n"
   ]
  },
  {
   "cell_type": "code",
   "execution_count": 454,
   "id": "8aa7578d",
   "metadata": {},
   "outputs": [],
   "source": [
    "def get(string):\n",
    "    flow=re.compile(r'^\\d+\\.?\\d{1,2}$')\n",
    "    result=re.findall(flow,string)\n",
    "    return result"
   ]
  },
  {
   "cell_type": "code",
   "execution_count": 455,
   "id": "3d4c56fc",
   "metadata": {},
   "outputs": [
    {
     "name": "stdout",
     "output_type": "stream",
     "text": [
      "[]\n"
     ]
    }
   ],
   "source": [
    "string='01.12 0132.123 2.31875 145.8 3.01 27.25 0.25'\n",
    "result2=get(string)\n",
    "print(result2)\n"
   ]
  },
  {
   "cell_type": "markdown",
   "id": "3128b2a1",
   "metadata": {},
   "source": [
    "# Question 21- Write a Python program to separate and print the numbers and their position of a given string."
   ]
  },
  {
   "cell_type": "code",
   "execution_count": null,
   "id": "046f3595",
   "metadata": {},
   "outputs": [],
   "source": [
    "\n"
   ]
  },
  {
   "cell_type": "markdown",
   "id": "06e71820",
   "metadata": {},
   "source": [
    "# Question 22- Write a regular expression in python program to extract maximum/largest numeric value from a string.\n",
    "Sample Text:  'My marks in each semester are: 947, 896, 926, 524, 734, 950, 642'\n",
    "Expected Output: 950\n"
   ]
  },
  {
   "cell_type": "code",
   "execution_count": 456,
   "id": "5e7f87c1",
   "metadata": {},
   "outputs": [
    {
     "name": "stdout",
     "output_type": "stream",
     "text": [
      "950\n"
     ]
    }
   ],
   "source": [
    "input = 'My marks in each semester are: 947, 896, 926, 524, 734, 950, 642'\n",
    "values = re.findall(r'\\d+', input)\n",
    "values = [int(value) for value in values]\n",
    "\n",
    "max_value = max(values)\n",
    "\n",
    "print(max_value)"
   ]
  },
  {
   "cell_type": "markdown",
   "id": "c2d67f84",
   "metadata": {},
   "source": [
    "# Question 23- Create a function in python to insert spaces between words starting with capital letters.\n",
    "Sample Text: “RegularExpressionIsAnImportantTopicInPython\"\n",
    "Expected Output: Regular Expression Is An Important Topic In Python\n"
   ]
  },
  {
   "cell_type": "code",
   "execution_count": 491,
   "id": "8381e69f",
   "metadata": {},
   "outputs": [],
   "source": [
    "def space(string):\n",
    "    flow = r'([A-Z][a-z])'\n",
    "    result = re.sub(flow,r' \\1', string)\n",
    "    result = result.strip()\n",
    "    return result"
   ]
  },
  {
   "cell_type": "code",
   "execution_count": 492,
   "id": "eae2acaa",
   "metadata": {},
   "outputs": [
    {
     "name": "stdout",
     "output_type": "stream",
     "text": [
      "Regular Expression Is An Important Topic In Python\n"
     ]
    }
   ],
   "source": [
    "string='RegularExpressionIsAnImportantTopicInPython'\n",
    "result2=space(string)\n",
    "print(result2)"
   ]
  },
  {
   "cell_type": "markdown",
   "id": "73e58fed",
   "metadata": {},
   "source": [
    "# Question 24- Python regex to find sequences of one upper case letter followed by lower case letters"
   ]
  },
  {
   "cell_type": "code",
   "execution_count": 493,
   "id": "36677ea7",
   "metadata": {},
   "outputs": [
    {
     "name": "stdout",
     "output_type": "stream",
     "text": [
      "['How', 'You', 'What', 'Matter']\n"
     ]
    }
   ],
   "source": [
    "text=\"How about You, What's the Matter?\"\n",
    "result=re.findall(r'[A-Z][a-z]+',text)\n",
    "print(result)"
   ]
  },
  {
   "cell_type": "markdown",
   "id": "16fc7f6e",
   "metadata": {},
   "source": [
    "# Question 25- Write a Python program to remove continuous duplicate words from Sentence using Regular Expression."
   ]
  },
  {
   "cell_type": "code",
   "execution_count": 496,
   "id": "330869c6",
   "metadata": {},
   "outputs": [],
   "source": [
    "def dup(string):\n",
    "    flow=r'\\b(\\w+)(\\s+\\1\\b)+'\n",
    "    result=re.sub(flow,r'\\1',string)\n",
    "    return result"
   ]
  },
  {
   "cell_type": "code",
   "execution_count": 497,
   "id": "cd0bc5fb",
   "metadata": {},
   "outputs": [
    {
     "name": "stdout",
     "output_type": "stream",
     "text": [
      "kya hua tera hello!!\n"
     ]
    }
   ],
   "source": [
    "string='kya kya hua hua tera tera hello!!'\n",
    "result2=dup(string)\n",
    "print(result2)"
   ]
  },
  {
   "cell_type": "markdown",
   "id": "57772d2e",
   "metadata": {},
   "source": [
    "# Question 26-  Write a python program using RegEx to accept string ending with alphanumeric character."
   ]
  },
  {
   "cell_type": "code",
   "execution_count": 506,
   "id": "554f466b",
   "metadata": {},
   "outputs": [],
   "source": [
    "def validate(string):\n",
    "    flow=r'\\w+$'\n",
    "    result=re.search(flow,string)\n",
    "    if result:\n",
    "        return 'validated'\n",
    "    else:\n",
    "        return 'not validated'\n"
   ]
  },
  {
   "cell_type": "code",
   "execution_count": 510,
   "id": "a97f71a3",
   "metadata": {},
   "outputs": [
    {
     "name": "stdout",
     "output_type": "stream",
     "text": [
      "validated\n"
     ]
    }
   ],
   "source": [
    "string='How many times I need to tell you'\n",
    "result2=validate(string)\n",
    "print(result2)"
   ]
  },
  {
   "cell_type": "code",
   "execution_count": 508,
   "id": "75f5c093",
   "metadata": {},
   "outputs": [
    {
     "name": "stdout",
     "output_type": "stream",
     "text": [
      "not validated\n"
     ]
    }
   ],
   "source": [
    "string='How many times I need to tell you ???'\n",
    "result2=validate(string)\n",
    "print(result2)"
   ]
  },
  {
   "cell_type": "markdown",
   "id": "9dc2a9a4",
   "metadata": {},
   "source": [
    "# Question 27-Write a python program using RegEx to extract the hashtags.\n",
    "Sample Text:  \"\"\"RT @kapil_kausik: #Doltiwal I mean #xyzabc is \"hurt\" by #Demonetization as the same has rendered USELESS <ed><U+00A0><U+00BD><ed><U+00B1><U+0089> \"acquired funds\" No wo\"\"\"\n",
    "Expected Output: ['#Doltiwal', '#xyzabc', '#Demonetization']\n"
   ]
  },
  {
   "cell_type": "code",
   "execution_count": 514,
   "id": "7c389981",
   "metadata": {},
   "outputs": [
    {
     "name": "stdout",
     "output_type": "stream",
     "text": [
      "['#Doltiwal', '#xyzabc', '#Demonetization']\n"
     ]
    }
   ],
   "source": [
    "t1='RT @kapil_kausik: #Doltiwal I mean #xyzabc is \"hurt\" by #Demonetization as the same has rendered USELESS <U+00A0><U+00BD><U+00B1><U+0089> \"acquired funds\" No wo'\n",
    "result=re.findall(r'#\\w+',t1)\n",
    "print(result)"
   ]
  },
  {
   "cell_type": "markdown",
   "id": "b7cf3a7b",
   "metadata": {},
   "source": [
    "# Question 28- Write a python program using RegEx to remove <U+..> like symbols\n",
    "Check the below sample text, there are strange symbols something of the sort <U+..> all over the place. You need to come up with a general Regex expression that will cover all such symbols.\n",
    "Sample Text: \"@Jags123456 Bharat band on 28??<ed><U+00A0><U+00BD><ed><U+00B8><U+0082>Those who  are protesting #demonetization  are all different party leaders\"\n",
    "Expected Output: @Jags123456 Bharat band on 28??<ed><ed>Those who  are protesting #demonetization  are all different party leaders\n",
    " "
   ]
  },
  {
   "cell_type": "code",
   "execution_count": 518,
   "id": "33da5db2",
   "metadata": {},
   "outputs": [
    {
     "name": "stdout",
     "output_type": "stream",
     "text": [
      "@Jags123456 Bharat band on 28??Those who are protesting #demonetization are all different party leaders\n"
     ]
    }
   ],
   "source": [
    "t1='@Jags123456 Bharat band on 28??<U+00A0><U+00BD><U+00B8><U+0082>Those who are protesting #demonetization are all different party leaders'\n",
    "result=re.sub(r'<U\\+\\w{4}>',\"\",t1)\n",
    "print(result)"
   ]
  },
  {
   "cell_type": "markdown",
   "id": "fb780c5c",
   "metadata": {},
   "source": [
    "# Question 29- Write a python program to extract dates from the text stored in the text file.\n",
    "Sample Text: Ron was born on 12-09-1992 and he was admitted to school 15-12-1999.\n",
    "Note- Store this sample text in the file and then extract dates.\n"
   ]
  },
  {
   "cell_type": "code",
   "execution_count": 519,
   "id": "039bb7c0",
   "metadata": {},
   "outputs": [
    {
     "name": "stdout",
     "output_type": "stream",
     "text": [
      "['12-09-1992', '15-12-1999']\n"
     ]
    }
   ],
   "source": [
    "datefile=open(\"/Users/apple/Desktop/PYTHON INTERNSHIP ASSIGNMENTS/30-03-2024/example3.txt\")\n",
    "d1=datefile.read()\n",
    "flow=r'\\d{2}-\\d{2}-\\d{4}'\n",
    "result=re.findall(flow,d1)\n",
    "print(result)"
   ]
  },
  {
   "cell_type": "markdown",
   "id": "450be411",
   "metadata": {},
   "source": [
    "# Question 30- Create a function in python to remove all words from a string of length between 2 and 4.\n",
    "The use of the re.compile() method is mandatory.\n",
    "Sample Text: \"The following example creates an ArrayList with a capacity of 50 elements. 4 elements are then added to the ArrayList and the ArrayList is trimmed accordingly.\"\n",
    "Expected Output:  following example creates ArrayList a capacity elements. 4 elements added ArrayList ArrayList trimmed accordingly.\n"
   ]
  },
  {
   "cell_type": "code",
   "execution_count": 520,
   "id": "adcedbe3",
   "metadata": {},
   "outputs": [],
   "source": [
    "def remove(string):\n",
    "    flow=r'\\b\\w{2,4}\\b'\n",
    "    result=re.sub(flow,\"\",string)\n",
    "    return result"
   ]
  },
  {
   "cell_type": "code",
   "execution_count": 521,
   "id": "3bda5baf",
   "metadata": {},
   "outputs": [
    {
     "name": "stdout",
     "output_type": "stream",
     "text": [
      " following example creates  ArrayList  a capacity   elements. 4 elements   added   ArrayList   ArrayList  trimmed accordingly\n"
     ]
    }
   ],
   "source": [
    "string='The following example creates an ArrayList with a capacity of 50 elements. 4 elements are then added to the ArrayList and the ArrayList is trimmed accordingly'\n",
    "result2=remove(string)\n",
    "print(result2)"
   ]
  }
 ],
 "metadata": {
  "kernelspec": {
   "display_name": "Python 3 (ipykernel)",
   "language": "python",
   "name": "python3"
  },
  "language_info": {
   "codemirror_mode": {
    "name": "ipython",
    "version": 3
   },
   "file_extension": ".py",
   "mimetype": "text/x-python",
   "name": "python",
   "nbconvert_exporter": "python",
   "pygments_lexer": "ipython3",
   "version": "3.11.4"
  }
 },
 "nbformat": 4,
 "nbformat_minor": 5
}
